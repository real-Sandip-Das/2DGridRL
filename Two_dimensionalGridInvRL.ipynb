{
 "cells": [
  {
   "cell_type": "code",
   "execution_count": 1,
   "metadata": {},
   "outputs": [],
   "source": [
    "import numpy as np\n",
    "import matplotlib"
   ]
  },
  {
   "cell_type": "markdown",
   "metadata": {},
   "source": [
    "Defining a grid:\n",
    "\n",
    "- `@`: Unreachable square\n",
    "- `.`: Reachable square\n",
    "\n",
    "Define the string describing the grid as `grid_str` \\\n",
    "Also define the self-explanatory `grid_shape`, and `grid_reward`"
   ]
  },
  {
   "cell_type": "code",
   "execution_count": 2,
   "metadata": {},
   "outputs": [],
   "source": [
    "grid_str = \\\n",
    "    \"\"\"\n",
    "    @@@@@@@@@@@@@\n",
    "    @.....@.....@\n",
    "    @.....@.....@\n",
    "    @...........@\n",
    "    @.....@.....@\n",
    "    @.....@.....@\n",
    "    @@.@@@@.....@\n",
    "    @.....@@@.@@@\n",
    "    @.....@.....@\n",
    "    @.....@.....@\n",
    "    @...........@\n",
    "    @.....@.....@\n",
    "    @@@@@@@@@@@@@\n",
    "    \"\"\"\n",
    "\n",
    "grid_shape = (13, 13)\n",
    "grid_reward = np.zeros(grid_shape, dtype=np.float32)\n",
    "grid_reward[1, -2] = 1"
   ]
  },
  {
   "cell_type": "code",
   "execution_count": 3,
   "metadata": {},
   "outputs": [],
   "source": [
    "class Grid:\n",
    "    def __init__(self, grid_str, grid_shape, grid_reward):\n",
    "        m, n = grid_shape\n",
    "        grid_str = grid_str.strip().split('\\n')\n",
    "        grid_str = [line.strip() for line in grid_str]\n",
    "        self._is_occupied = np.array([[True if grid_str[i][j] == '@' else False for i in range(n)] for j in range(m)], dtype=np.uint8)\n",
    "        self.grid_shape = grid_shape\n",
    "        self._reward = grid_reward\n",
    "    \n",
    "    def is_occupied(self, i, j):\n",
    "        return self._is_occupied[i, j]\n",
    "    \n",
    "    def reward_at(self, i, j):\n",
    "        return self._reward[i, j]\n",
    "    \n",
    "    def actions(self, i, j):\n",
    "        m, n = self.grid_shape\n",
    "        actions = []\n",
    "        if i > 0 and not self.is_occupied(i - 1, j):\n",
    "            actions.append([-1, 0])\n",
    "        if i < m - 1 and not self.is_occupied(i + 1, j):\n",
    "            actions.append([1, 0])\n",
    "        if j > 0 and not self.is_occupied(i, j - 1):\n",
    "            actions.append([0, -1])\n",
    "        if j < n - 1 and not self.is_occupied(i, j + 1):\n",
    "            actions.append([0, 1])\n",
    "        return [np.array(action, dtype=np.int32) for action in actions]"
   ]
  },
  {
   "cell_type": "code",
   "execution_count": 4,
   "metadata": {},
   "outputs": [],
   "source": [
    "Grid1 = Grid(grid_str, grid_shape, grid_reward)"
   ]
  },
  {
   "cell_type": "code",
   "execution_count": 5,
   "metadata": {},
   "outputs": [
    {
     "name": "stdout",
     "output_type": "stream",
     "text": [
      "[[0.   0.   0.   0.   0.   0.   0.   0.   0.   0.   0.   0.   0.  ]\n",
      " [0.   1.48 1.65 1.83 2.03 2.26 0.   3.44 3.82 4.25 4.72 5.25 0.  ]\n",
      " [0.   1.65 1.83 2.03 2.26 2.51 2.79 3.1  3.44 3.82 4.25 4.72 0.  ]\n",
      " [0.   1.48 1.65 1.83 2.03 2.26 0.   2.79 3.1  3.44 3.82 4.25 0.  ]\n",
      " [0.   1.33 1.48 1.65 1.83 2.03 0.   2.51 2.79 3.1  3.44 3.82 0.  ]\n",
      " [0.   1.2  1.33 1.48 1.65 1.83 0.   2.26 2.51 2.79 3.1  3.44 0.  ]\n",
      " [0.   0.   0.   1.33 0.   0.   0.   0.   0.   0.   2.79 0.   0.  ]\n",
      " [0.   0.97 1.08 1.2  1.08 0.97 1.08 0.   2.03 2.26 2.51 2.26 0.  ]\n",
      " [0.   0.87 0.97 1.08 0.97 1.08 1.2  0.   1.83 2.03 2.26 2.03 0.  ]\n",
      " [0.   0.78 0.87 0.97 1.08 1.2  1.33 1.48 1.65 1.83 2.03 1.83 0.  ]\n",
      " [0.   0.7  0.78 0.87 0.97 1.08 1.2  0.   1.48 1.65 1.83 1.65 0.  ]\n",
      " [0.   0.63 0.7  0.78 0.87 0.97 1.08 0.   1.33 1.48 1.65 1.48 0.  ]\n",
      " [0.   0.   0.   0.   0.   0.   0.   0.   0.   0.   0.   0.   0.  ]]\n"
     ]
    }
   ],
   "source": [
    "V = np.zeros(grid_shape, dtype=np.float32)\n",
    "gamma = np.float32(0.9)\n",
    "\n",
    "while True:\n",
    "    V_old = V.copy()\n",
    "    for i in range(grid_shape[0]):\n",
    "        for j in range(grid_shape[1]):\n",
    "            if Grid1.is_occupied(i, j):\n",
    "                V[i, j] = 0\n",
    "            else:\n",
    "                actions = Grid1.actions(i, j)\n",
    "                V[i, j] = max([Grid1.reward_at(i, j) + gamma * V_old[i + action[0], j + action[1]] for action in actions])\n",
    "                V[i, j] = round(V[i, j], 2)\n",
    "    if np.array_equal(V, V_old): break\n",
    "\n",
    "print(V)"
   ]
  }
 ],
 "metadata": {
  "kernelspec": {
   "display_name": "pygame",
   "language": "python",
   "name": "python3"
  },
  "language_info": {
   "codemirror_mode": {
    "name": "ipython",
    "version": 3
   },
   "file_extension": ".py",
   "mimetype": "text/x-python",
   "name": "python",
   "nbconvert_exporter": "python",
   "pygments_lexer": "ipython3",
   "version": "3.12.7"
  }
 },
 "nbformat": 4,
 "nbformat_minor": 2
}
